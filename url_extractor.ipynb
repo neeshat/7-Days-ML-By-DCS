{
 "cells": [
  {
   "cell_type": "code",
   "execution_count": 37,
   "id": "293257bd-3c99-4382-8e3a-5cf2869bd445",
   "metadata": {},
   "outputs": [
    {
     "name": "stdout",
     "output_type": "stream",
     "text": [
      "There are 8 following urls: \n",
      "['https://www.companywebsite.com', 'http://products.company.org/catalog', 'https://partners.company-services.net/portal', 'www.blog.companysite.com', 'docs.companydomain.com/resources', 'https://twitter.com/company', 'https://www.linkedin.com/company/company-name', 'https://instagram.com/company_official']\n"
     ]
    }
   ],
   "source": [
    "import re\n",
    "text = \"\"\"\n",
    "Hi team,\n",
    "\n",
    "Please check out the following resources for our upcoming campaign:\n",
    "- Our website: https://www.companywebsite.com\n",
    "- Product catalog: http://products.company.org/catalog\n",
    "- Partner portal: https://partners.company-services.net/portal\n",
    "- Blog: www.blog.companysite.com\n",
    "- Documentation: docs.companydomain.com/resources\n",
    "\n",
    "Feel free to visit these pages for more details or get updates from our social media:\n",
    "- Twitter: https://twitter.com/company\n",
    "- LinkedIn: https://www.linkedin.com/company/company-name\n",
    "- Instagram: https://instagram.com/company_official\n",
    "           \n",
    "Regards,\n",
    "Marketing Team\n",
    "\"\"\"\n",
    "urls = re.findall(r'\\w+\\:?\\/?\\/?\\w+\\.\\w+\\-?\\w+\\/?\\.?\\w+\\.?\\/?\\w+\\/?\\w+\\-?\\w+',text)\n",
    "print(f\"There are {len(urls)} following urls: \")\n",
    "print(urls)"
   ]
  },
  {
   "cell_type": "code",
   "execution_count": null,
   "id": "16d717f8-5281-46ce-8cad-184e91bdba76",
   "metadata": {},
   "outputs": [],
   "source": []
  },
  {
   "cell_type": "code",
   "execution_count": null,
   "id": "a14177f6-35f8-4ca2-91e2-5963239a6fbe",
   "metadata": {},
   "outputs": [],
   "source": []
  }
 ],
 "metadata": {
  "kernelspec": {
   "display_name": "Python 3 (ipykernel)",
   "language": "python",
   "name": "python3"
  },
  "language_info": {
   "codemirror_mode": {
    "name": "ipython",
    "version": 3
   },
   "file_extension": ".py",
   "mimetype": "text/x-python",
   "name": "python",
   "nbconvert_exporter": "python",
   "pygments_lexer": "ipython3",
   "version": "3.12.4"
  }
 },
 "nbformat": 4,
 "nbformat_minor": 5
}
